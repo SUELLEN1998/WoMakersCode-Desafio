{
  "nbformat": 4,
  "nbformat_minor": 0,
  "metadata": {
    "colab": {
      "provenance": [],
      "include_colab_link": true
    },
    "kernelspec": {
      "name": "python3",
      "display_name": "Python 3"
    },
    "language_info": {
      "name": "python"
    }
  },
  "cells": [
    {
      "cell_type": "markdown",
      "metadata": {
        "id": "view-in-github",
        "colab_type": "text"
      },
      "source": [
        "<a href=\"https://colab.research.google.com/github/SUELLEN1998/WoMakersCode-Desafio/blob/main/C%C3%B3pia_de_WoMakersCode_Bootcamp_Data_Analytics_(2025_1).ipynb\" target=\"_parent\"><img src=\"https://colab.research.google.com/assets/colab-badge.svg\" alt=\"Open In Colab\"/></a>"
      ]
    },
    {
      "cell_type": "markdown",
      "source": [
        "DESAFIO 1\n",
        "\n",
        "Crie um programa que solicita ao usuário que insira três notas (valores de 0 a 10) e, em seguida, calcule e exiba a média dessas notas.\n",
        "\n",
        "Além disso, informe ao usuário se ele foi aprovado ou reprovado com base na média das notas, considerando a média mínima de aprovação como 6."
      ],
      "metadata": {
        "id": "fZu819fMQNKI"
      }
    },
    {
      "cell_type": "code",
      "source": [
        "def main():\n",
        "    notas = []  # Indented to be part of the main function\n",
        "    for i in range(1, 4):\n",
        "        while True:\n",
        "            try:\n",
        "                nota = float(input(f\"Insira a nota {i} (0 a 10): \"))\n",
        "                if 0 <= nota <= 10:\n",
        "                    notas.append(nota)\n",
        "                    break\n",
        "                else:\n",
        "                    print(\"A nota deve estar entre 0 e 10. Tente novamente.\")\n",
        "            except ValueError:\n",
        "                print(\"Por favor, insira um número válido.\")\n",
        "    # Calcula a média - Indented to be part of the main function\n",
        "    media = sum(notas) / len(notas)\n",
        "    # Exibe a média e a situação do aluno - Indented to be part of the main function\n",
        "    print(f\"\\nA média das notas é: {media:.2f}\")\n",
        "    if media >= 6:\n",
        "        print(\"Aprovado!\")\n",
        "    else:\n",
        "        print(\"Reprovado!\")\n",
        "\n",
        "if __name__ == \"__main__\":\n",
        "    main()\n"
      ],
      "metadata": {
        "colab": {
          "base_uri": "https://localhost:8080/"
        },
        "id": "ME2qhQQ5ngN5",
        "outputId": "d4641484-1dc8-4688-b8ed-0cbcfc7cb4a9"
      },
      "execution_count": null,
      "outputs": [
        {
          "output_type": "stream",
          "name": "stdout",
          "text": [
            "Insira a nota 1 (0 a 10): 8\n",
            "Insira a nota 2 (0 a 10): 7\n",
            "Insira a nota 3 (0 a 10): 6\n",
            "\n",
            "A média das notas é: 7.00\n",
            "Aprovado!\n"
          ]
        }
      ]
    },
    {
      "cell_type": "markdown",
      "source": [
        "DESAFIO 2\n",
        "\n",
        "Escreva um programa que receba uma string e conte quantas vogais (a, e, i, o, u) ela contém."
      ],
      "metadata": {
        "id": "_m8mBod2g9Iv"
      }
    },
    {
      "cell_type": "code",
      "source": [
        "def contar_vogais(string):\n",
        "  vogais = 'aeiouAEIOU'\n",
        "  contador = sum(1 for char in string if char in vogais)\n",
        "  return contador\n",
        "\n",
        "def main():\n",
        "    # Solicita a string ao usuário\n",
        "    string = input(\"Digite uma string: \")\n",
        "    # Conta as vogais\n",
        "    total_vogais = contar_vogais(string)\n",
        "    # Exibe o resultado\n",
        "    print(f\"A string contém {total_vogais} vogais.\")\n",
        "\n",
        "if __name__ == \"__main__\":\n",
        "    main()"
      ],
      "metadata": {
        "id": "G3MkSdjIfMay",
        "colab": {
          "base_uri": "https://localhost:8080/"
        },
        "outputId": "201db01a-19f1-42dd-d595-1faf094eb8f6"
      },
      "execution_count": null,
      "outputs": [
        {
          "output_type": "stream",
          "name": "stdout",
          "text": [
            "Digite uma string: a e i o u\n",
            "A string contém 5 vogais.\n"
          ]
        }
      ]
    },
    {
      "cell_type": "markdown",
      "source": [
        "DESAFIO 3\n",
        "\n",
        "Escreva um programa em que o computador escolhe um número aleatório entre 1 e 100 e o usuário tenta adivinhar. O programa deve informar se o palpite é muito alto, muito baixo ou correto."
      ],
      "metadata": {
        "id": "azEJl_Q6cFFz"
      }
    },
    {
      "cell_type": "code",
      "source": [
        "\n",
        "import random\n",
        "\n",
        "def main():\n",
        "    # O computador escolhe um número aleatório entre 1 e 100\n",
        "    numero_secreto = random.randint(1, 100)\n",
        "    tentativas = 0\n",
        "\n",
        "    print(\"Tente adivinhar o número entre 1 e 100!\")\n",
        "\n",
        "    while True:\n",
        "        try:\n",
        "            palpite = int(input(\"Digite seu palpite: \"))\n",
        "            tentativas += 1\n",
        "\n",
        "            if palpite < 1 or palpite > 100:\n",
        "                print(\"Por favor, digite um número entre 1 e 100.\")\n",
        "                continue\n",
        "\n",
        "            if palpite < numero_secreto:\n",
        "                print(\"Muito baixo! Tente novamente.\")\n",
        "            elif palpite > numero_secreto:\n",
        "                print(\"Muito alto! Tente novamente.\")\n",
        "            else:\n",
        "                print(f\"Parabéns! Você adivinhou o número {numero_secreto} em {tentativas} tentativas.\")\n",
        "                break\n",
        "        except ValueError:\n",
        "            print(\"Por favor, insira um número válido.\")\n",
        "\n",
        "if __name__ == \"__main__\":\n",
        "    main()\n"
      ],
      "metadata": {
        "colab": {
          "base_uri": "https://localhost:8080/"
        },
        "id": "ez865eL6tT8L",
        "outputId": "911f525c-59c3-497f-a573-a12f2dd9adde"
      },
      "execution_count": 1,
      "outputs": [
        {
          "output_type": "stream",
          "name": "stdout",
          "text": [
            "Tente adivinhar o número entre 1 e 100!\n",
            "Digite seu palpite: 80\n",
            "Muito alto! Tente novamente.\n",
            "Digite seu palpite: 60\n",
            "Muito alto! Tente novamente.\n",
            "Digite seu palpite: 50\n",
            "Muito baixo! Tente novamente.\n",
            "Digite seu palpite: 55\n",
            "Muito alto! Tente novamente.\n",
            "Digite seu palpite: 54\n",
            "Muito alto! Tente novamente.\n",
            "Digite seu palpite: 53\n",
            "Muito alto! Tente novamente.\n",
            "Digite seu palpite: 51\n",
            "Muito baixo! Tente novamente.\n",
            "Digite seu palpite: 52\n",
            "Parabéns! Você adivinhou o número 52 em 8 tentativas.\n"
          ]
        }
      ]
    },
    {
      "cell_type": "markdown",
      "source": [
        "DESAFIO 4\n",
        "\n",
        "Crie um programa que permita ao usuário gerenciar suas tarefas diárias. O programa deve oferecer as seguintes funcionalidades:\n",
        "\n",
        "Adicionar uma nova tarefa;\n",
        "\n",
        "Visualizar todas as tarefas;\n",
        "\n",
        "Remover uma tarefa;\n",
        "\n",
        "Sair do programa.\n",
        "\n",
        "(Você pode implementar essas funcionalidades usando listas para armazenar as tarefas e estruturas de controle como loops e condicionais para interagir com o usuário.)"
      ],
      "metadata": {
        "id": "qk4Gw-GAqFjY"
      }
    },
    {
      "cell_type": "code",
      "source": [
        "def main():\n",
        "    tarefas = []\n",
        "\n",
        "    while True:\n",
        "        print(\"\\nGerenciador de Tarefas\")\n",
        "        print(\"1. Adicionar uma nova tarefa\")\n",
        "        print(\"2. Visualizar todas as tarefas\")\n",
        "        print(\"3. Remover uma tarefa\")\n",
        "        print(\"4. Sair\")\n",
        "\n",
        "        escolha = input(\"Escolha uma opção (1-4): \")\n",
        "\n",
        "        if escolha == '1':\n",
        "            tarefa = input(\"Digite a nova tarefa: \")\n",
        "            tarefas.append(tarefa)\n",
        "            print(f\"Tarefa '{tarefa}' adicionada com sucesso!\")\n",
        "\n",
        "        elif escolha == '2':\n",
        "            if tarefas:\n",
        "                print(\"\\nTarefas:\")\n",
        "                for i, tarefa in enumerate(tarefas, start=1):\n",
        "                    print(f\"{i}. {tarefa}\")\n",
        "            else:\n",
        "                print(\"Nenhuma tarefa cadastrada.\")\n",
        "\n",
        "        elif escolha == '3':\n",
        "            if tarefas:\n",
        "                try:\n",
        "                    indice = int(input(\"Digite o número da tarefa que deseja remover: \")) - 1\n",
        "                    if 0 <= indice < len(tarefas):\n",
        "                        tarefa_removida = tarefas.pop(indice)\n",
        "                        print(f\"Tarefa '{tarefa_removida}' removida com sucesso!\")\n",
        "                    else:\n",
        "                        print(\"Número inválido.\")\n",
        "                except ValueError:\n",
        "                    print(\"Por favor, insira um número válido.\")\n",
        "            else:\n",
        "                print(\"Nenhuma tarefa cadastrada.\")\n",
        "\n",
        "        elif escolha == '4':\n",
        "            print(\"Saindo do programa. Até mais!\")\n",
        "            break\n",
        "\n",
        "        else:\n",
        "            print(\"Opção inválida. Por favor, escolha uma opção entre 1 e 4.\")\n",
        "\n",
        "if __name__ == \"__main__\":\n",
        "    main()\n"
      ],
      "metadata": {
        "id": "FOtsBTYecOUJ",
        "colab": {
          "base_uri": "https://localhost:8080/"
        },
        "outputId": "02a84d5b-218e-4c16-ac40-c6cbb738d8f8"
      },
      "execution_count": null,
      "outputs": [
        {
          "output_type": "stream",
          "name": "stdout",
          "text": [
            "\n",
            "Gerenciador de Tarefas\n",
            "1. Adicionar uma nova tarefa\n",
            "2. Visualizar todas as tarefas\n",
            "3. Remover uma tarefa\n",
            "4. Sair\n",
            "Escolha uma opção (1-4): 1\n",
            "Digite a nova tarefa: Terminar o desafio 4\n",
            "Tarefa 'Terminar o desafio 4' adicionada com sucesso!\n",
            "\n",
            "Gerenciador de Tarefas\n",
            "1. Adicionar uma nova tarefa\n",
            "2. Visualizar todas as tarefas\n",
            "3. Remover uma tarefa\n",
            "4. Sair\n",
            "Escolha uma opção (1-4): 1\n",
            "Digite a nova tarefa: Terminar o desafio 5\n",
            "Tarefa 'Terminar o desafio 5' adicionada com sucesso!\n",
            "\n",
            "Gerenciador de Tarefas\n",
            "1. Adicionar uma nova tarefa\n",
            "2. Visualizar todas as tarefas\n",
            "3. Remover uma tarefa\n",
            "4. Sair\n",
            "Escolha uma opção (1-4): 2\n",
            "\n",
            "Tarefas:\n",
            "1. Terminar o desafio 4\n",
            "2. Terminar o desafio 5\n",
            "\n",
            "Gerenciador de Tarefas\n",
            "1. Adicionar uma nova tarefa\n",
            "2. Visualizar todas as tarefas\n",
            "3. Remover uma tarefa\n",
            "4. Sair\n",
            "Escolha uma opção (1-4): 3\n",
            "Digite o número da tarefa que deseja remover: 2\n",
            "Tarefa 'Terminar o desafio 5' removida com sucesso!\n",
            "\n",
            "Gerenciador de Tarefas\n",
            "1. Adicionar uma nova tarefa\n",
            "2. Visualizar todas as tarefas\n",
            "3. Remover uma tarefa\n",
            "4. Sair\n",
            "Escolha uma opção (1-4): 2\n",
            "\n",
            "Tarefas:\n",
            "1. Terminar o desafio 4\n",
            "\n",
            "Gerenciador de Tarefas\n",
            "1. Adicionar uma nova tarefa\n",
            "2. Visualizar todas as tarefas\n",
            "3. Remover uma tarefa\n",
            "4. Sair\n",
            "Escolha uma opção (1-4): 4\n",
            "Saindo do programa. Até mais!\n"
          ]
        }
      ]
    },
    {
      "cell_type": "markdown",
      "source": [
        "DESAFIO 5\n",
        "\n",
        "Escreva um programa em Python que funcione como uma calculadora simples. Ele deve pedir ao usuário para inserir dois números e, em seguida, solicitar a operação que deseja realizar (adição, subtração, multiplicação ou divisão)."
      ],
      "metadata": {
        "id": "cpVCv8m5QNm9"
      }
    },
    {
      "cell_type": "code",
      "source": [
        "def calcular(num1, num2, operacao):\n",
        "    if operacao == 'adição':\n",
        "        return num1 + num2\n",
        "    elif operacao == 'subtração':\n",
        "        return num1 - num2\n",
        "    elif operacao == 'multiplicação':\n",
        "        return num1 * num2\n",
        "    elif operacao == 'divisão':\n",
        "        if num2 != 0:\n",
        "            return num1 / num2\n",
        "        else:\n",
        "            return \"Erro: Divisão por zero!\"\n",
        "    else:\n",
        "        return \"Operação inválida!\"\n",
        "\n",
        "def main():\n",
        "    try:\n",
        "        num1 = float(input(\"Digite o primeiro número: \"))\n",
        "        num2 = float(input(\"Digite o segundo número: \"))\n",
        "\n",
        "        print(\"\\nOperações disponíveis:\")\n",
        "        print(\"1. Adição\")\n",
        "        print(\"2. Subtração\")\n",
        "        print(\"3. Multiplicação\")\n",
        "        print(\"4. Divisão\")\n",
        "\n",
        "        escolha = input(\"Escolha a operação (1-4): \")\n",
        "\n",
        "        if escolha == '1':\n",
        "            operacao = 'adição'\n",
        "        elif escolha == '2':\n",
        "            operacao = 'subtração'\n",
        "        elif escolha == '3':\n",
        "            operacao = 'multiplicação'\n",
        "        elif escolha == '4':\n",
        "            operacao = 'divisão'\n",
        "        else:\n",
        "            print(\"Escolha inválida!\")\n",
        "            return\n",
        "\n",
        "        resultado = calcular(num1, num2, operacao)\n",
        "        print(f\"O resultado da {operacao} é: {resultado}\")\n",
        "\n",
        "    except ValueError:\n",
        "        print(\"Por favor, insira números válidos.\")\n",
        "\n",
        "if __name__ == \"__main__\":\n",
        "    main()\n"
      ],
      "metadata": {
        "id": "rGHbvDFVcGzy",
        "colab": {
          "base_uri": "https://localhost:8080/"
        },
        "outputId": "860bc3d9-a125-4d66-f6dd-0fa8ae5918c7"
      },
      "execution_count": 2,
      "outputs": [
        {
          "output_type": "stream",
          "name": "stdout",
          "text": [
            "Digite o primeiro número: 2024\n",
            "Digite o segundo número: 1998\n",
            "\n",
            "Operações disponíveis:\n",
            "1. Adição\n",
            "2. Subtração\n",
            "3. Multiplicação\n",
            "4. Divisão\n",
            "Escolha a operação (1-4): 2\n",
            "O resultado da subtração é: 26.0\n"
          ]
        }
      ]
    }
  ]
}